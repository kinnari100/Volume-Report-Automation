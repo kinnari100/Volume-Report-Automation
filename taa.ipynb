{
 "cells": [
  {
   "cell_type": "code",
   "execution_count": 3,
   "id": "d9fed068-cf17-4d10-90a3-7aec159e79f5",
   "metadata": {},
   "outputs": [
    {
     "name": "stdout",
     "output_type": "stream",
     "text": [
      "False\n",
      "Selecting rows from exams table\n",
      "  size_category  count\n",
      "0      negative      1\n"
     ]
    },
    {
     "name": "stderr",
     "output_type": "stream",
     "text": [
      "/var/folders/95/66y8yr891nx_wrg5vxt9ppy00000gp/T/ipykernel_71677/756827745.py:70: FutureWarning: save is not part of the public API, usage can give in unexpected results and will be removed in a future version\n",
      "  writer.save()\n"
     ]
    },
    {
     "name": "stdout",
     "output_type": "stream",
     "text": [
      "True\n",
      "Selecting rows from exams table\n",
      "0      negative\n",
      "1      negative\n",
      "2      negative\n",
      "3      negative\n",
      "4      negative\n",
      "         ...   \n",
      "972    negative\n",
      "973    negative\n",
      "974    negative\n",
      "975    negative\n",
      "976    negative\n",
      "Name: size_category, Length: 977, dtype: object\n",
      "  size_category  count\n",
      "0         2.5-3     11\n",
      "1           3-4     25\n",
      "2           4-5     49\n",
      "3            >5      7\n",
      "4      negative    885\n"
     ]
    },
    {
     "name": "stderr",
     "output_type": "stream",
     "text": [
      "/var/folders/95/66y8yr891nx_wrg5vxt9ppy00000gp/T/ipykernel_71677/756827745.py:46: FutureWarning: save is not part of the public API, usage can give in unexpected results and will be removed in a future version\n",
      "  writer.save()\n"
     ]
    },
    {
     "name": "stdout",
     "output_type": "stream",
     "text": [
      "Selecting rows from exams table\n"
     ]
    },
    {
     "ename": "ValueError",
     "evalue": "Length mismatch: Expected axis has 0 elements, new values have 19 elements",
     "output_type": "error",
     "traceback": [
      "\u001b[0;31m---------------------------------------------------------------------------\u001b[0m",
      "\u001b[0;31mValueError\u001b[0m                                Traceback (most recent call last)",
      "Input \u001b[0;32mIn [3]\u001b[0m, in \u001b[0;36m<cell line: 14>\u001b[0;34m()\u001b[0m\n\u001b[1;32m     30\u001b[0m df\u001b[38;5;241m=\u001b[39mpd\u001b[38;5;241m.\u001b[39mDataFrame(\u001b[38;5;28mlist\u001b[39m(exams))\n\u001b[1;32m     31\u001b[0m file_name \u001b[38;5;241m=\u001b[39m facility[\u001b[38;5;124m'\u001b[39m\u001b[38;5;124mfacility_id\u001b[39m\u001b[38;5;124m'\u001b[39m]\u001b[38;5;241m+\u001b[39m\u001b[38;5;124m'\u001b[39m\u001b[38;5;124m.xlsx\u001b[39m\u001b[38;5;124m'\u001b[39m\n\u001b[0;32m---> 32\u001b[0m df\u001b[38;5;241m.\u001b[39mcolumns \u001b[38;5;241m=\u001b[39m[\u001b[38;5;124m\"\u001b[39m\u001b[38;5;124mID\u001b[39m\u001b[38;5;124m\"\u001b[39m,\u001b[38;5;124m\"\u001b[39m\u001b[38;5;124mMRN\u001b[39m\u001b[38;5;124m\"\u001b[39m,\u001b[38;5;124m\"\u001b[39m\u001b[38;5;124mDateOfBirth\u001b[39m\u001b[38;5;124m\"\u001b[39m,\u001b[38;5;124m\"\u001b[39m\u001b[38;5;124mFacility\u001b[39m\u001b[38;5;124m\"\u001b[39m,\u001b[38;5;124m\"\u001b[39m\u001b[38;5;124mProcedure Description\u001b[39m\u001b[38;5;124m\"\u001b[39m,\u001b[38;5;124m\"\u001b[39m\u001b[38;5;124mProcedure Code\u001b[39m\u001b[38;5;124m\"\u001b[39m,\u001b[38;5;124m\"\u001b[39m\u001b[38;5;124mExam Date\u001b[39m\u001b[38;5;124m\"\u001b[39m,\u001b[38;5;124m\"\u001b[39m\u001b[38;5;124mAccession Number\u001b[39m\u001b[38;5;124m\"\u001b[39m,\u001b[38;5;124m\"\u001b[39m\u001b[38;5;124mreport\u001b[39m\u001b[38;5;124m\"\u001b[39m,\u001b[38;5;124m\"\u001b[39m\u001b[38;5;124mhas_measure\u001b[39m\u001b[38;5;124m\"\u001b[39m,\u001b[38;5;124m\"\u001b[39m\u001b[38;5;124mmax_measure\u001b[39m\u001b[38;5;124m\"\u001b[39m,\u001b[38;5;124m\"\u001b[39m\u001b[38;5;124mmax_measure_sentence\u001b[39m\u001b[38;5;124m\"\u001b[39m,\u001b[38;5;124m\"\u001b[39m\u001b[38;5;124mmodel_version\u001b[39m\u001b[38;5;124m\"\u001b[39m,\u001b[38;5;124m\"\u001b[39m\u001b[38;5;124mmax_measure_text\u001b[39m\u001b[38;5;124m\"\u001b[39m,\u001b[38;5;124m\"\u001b[39m\u001b[38;5;124mselected_measures_sentences\u001b[39m\u001b[38;5;124m\"\u001b[39m, \u001b[38;5;124m\"\u001b[39m\u001b[38;5;124mselected_measures_text\u001b[39m\u001b[38;5;124m\"\u001b[39m,\u001b[38;5;124m\"\u001b[39m\u001b[38;5;124mdevice_sentence\u001b[39m\u001b[38;5;124m\"\u001b[39m,\u001b[38;5;124m\"\u001b[39m\u001b[38;5;124mdevice_id\u001b[39m\u001b[38;5;124m\"\u001b[39m,\u001b[38;5;124m\"\u001b[39m\u001b[38;5;124mdevice_text\u001b[39m\u001b[38;5;124m\"\u001b[39m]\n\u001b[1;32m     33\u001b[0m \u001b[38;5;66;03m#df.to_csv('sample'+facility['facility_id']+'.csv')\u001b[39;00m\n\u001b[1;32m     34\u001b[0m \u001b[38;5;66;03m#df['calc']= df['max_measure'].apply[nodule_size]\u001b[39;00m\n\u001b[1;32m     35\u001b[0m df[\u001b[38;5;124m'\u001b[39m\u001b[38;5;124msize_category\u001b[39m\u001b[38;5;124m'\u001b[39m] \u001b[38;5;241m=\u001b[39m df[\u001b[38;5;124m\"\u001b[39m\u001b[38;5;124mmax_measure\u001b[39m\u001b[38;5;124m\"\u001b[39m]\u001b[38;5;241m.\u001b[39mapply(taa_size)\n",
      "File \u001b[0;32m/Library/Frameworks/Python.framework/Versions/3.9/lib/python3.9/site-packages/pandas/core/generic.py:5920\u001b[0m, in \u001b[0;36mNDFrame.__setattr__\u001b[0;34m(self, name, value)\u001b[0m\n\u001b[1;32m   5918\u001b[0m \u001b[38;5;28;01mtry\u001b[39;00m:\n\u001b[1;32m   5919\u001b[0m     \u001b[38;5;28mobject\u001b[39m\u001b[38;5;241m.\u001b[39m\u001b[38;5;21m__getattribute__\u001b[39m(\u001b[38;5;28mself\u001b[39m, name)\n\u001b[0;32m-> 5920\u001b[0m     \u001b[38;5;28;01mreturn\u001b[39;00m \u001b[38;5;28;43mobject\u001b[39;49m\u001b[38;5;241;43m.\u001b[39;49m\u001b[38;5;21;43m__setattr__\u001b[39;49m\u001b[43m(\u001b[49m\u001b[38;5;28;43mself\u001b[39;49m\u001b[43m,\u001b[49m\u001b[43m \u001b[49m\u001b[43mname\u001b[49m\u001b[43m,\u001b[49m\u001b[43m \u001b[49m\u001b[43mvalue\u001b[49m\u001b[43m)\u001b[49m\n\u001b[1;32m   5921\u001b[0m \u001b[38;5;28;01mexcept\u001b[39;00m \u001b[38;5;167;01mAttributeError\u001b[39;00m:\n\u001b[1;32m   5922\u001b[0m     \u001b[38;5;28;01mpass\u001b[39;00m\n",
      "File \u001b[0;32m/Library/Frameworks/Python.framework/Versions/3.9/lib/python3.9/site-packages/pandas/_libs/properties.pyx:69\u001b[0m, in \u001b[0;36mpandas._libs.properties.AxisProperty.__set__\u001b[0;34m()\u001b[0m\n",
      "File \u001b[0;32m/Library/Frameworks/Python.framework/Versions/3.9/lib/python3.9/site-packages/pandas/core/generic.py:822\u001b[0m, in \u001b[0;36mNDFrame._set_axis\u001b[0;34m(self, axis, labels)\u001b[0m\n\u001b[1;32m    820\u001b[0m \u001b[38;5;28;01mdef\u001b[39;00m \u001b[38;5;21m_set_axis\u001b[39m(\u001b[38;5;28mself\u001b[39m, axis: \u001b[38;5;28mint\u001b[39m, labels: AnyArrayLike \u001b[38;5;241m|\u001b[39m \u001b[38;5;28mlist\u001b[39m) \u001b[38;5;241m-\u001b[39m\u001b[38;5;241m>\u001b[39m \u001b[38;5;28;01mNone\u001b[39;00m:\n\u001b[1;32m    821\u001b[0m     labels \u001b[38;5;241m=\u001b[39m ensure_index(labels)\n\u001b[0;32m--> 822\u001b[0m     \u001b[38;5;28;43mself\u001b[39;49m\u001b[38;5;241;43m.\u001b[39;49m\u001b[43m_mgr\u001b[49m\u001b[38;5;241;43m.\u001b[39;49m\u001b[43mset_axis\u001b[49m\u001b[43m(\u001b[49m\u001b[43maxis\u001b[49m\u001b[43m,\u001b[49m\u001b[43m \u001b[49m\u001b[43mlabels\u001b[49m\u001b[43m)\u001b[49m\n\u001b[1;32m    823\u001b[0m     \u001b[38;5;28mself\u001b[39m\u001b[38;5;241m.\u001b[39m_clear_item_cache()\n",
      "File \u001b[0;32m/Library/Frameworks/Python.framework/Versions/3.9/lib/python3.9/site-packages/pandas/core/internals/managers.py:228\u001b[0m, in \u001b[0;36mBaseBlockManager.set_axis\u001b[0;34m(self, axis, new_labels)\u001b[0m\n\u001b[1;32m    226\u001b[0m \u001b[38;5;28;01mdef\u001b[39;00m \u001b[38;5;21mset_axis\u001b[39m(\u001b[38;5;28mself\u001b[39m, axis: \u001b[38;5;28mint\u001b[39m, new_labels: Index) \u001b[38;5;241m-\u001b[39m\u001b[38;5;241m>\u001b[39m \u001b[38;5;28;01mNone\u001b[39;00m:\n\u001b[1;32m    227\u001b[0m     \u001b[38;5;66;03m# Caller is responsible for ensuring we have an Index object.\u001b[39;00m\n\u001b[0;32m--> 228\u001b[0m     \u001b[38;5;28;43mself\u001b[39;49m\u001b[38;5;241;43m.\u001b[39;49m\u001b[43m_validate_set_axis\u001b[49m\u001b[43m(\u001b[49m\u001b[43maxis\u001b[49m\u001b[43m,\u001b[49m\u001b[43m \u001b[49m\u001b[43mnew_labels\u001b[49m\u001b[43m)\u001b[49m\n\u001b[1;32m    229\u001b[0m     \u001b[38;5;28mself\u001b[39m\u001b[38;5;241m.\u001b[39maxes[axis] \u001b[38;5;241m=\u001b[39m new_labels\n",
      "File \u001b[0;32m/Library/Frameworks/Python.framework/Versions/3.9/lib/python3.9/site-packages/pandas/core/internals/base.py:70\u001b[0m, in \u001b[0;36mDataManager._validate_set_axis\u001b[0;34m(self, axis, new_labels)\u001b[0m\n\u001b[1;32m     67\u001b[0m     \u001b[38;5;28;01mpass\u001b[39;00m\n\u001b[1;32m     69\u001b[0m \u001b[38;5;28;01melif\u001b[39;00m new_len \u001b[38;5;241m!=\u001b[39m old_len:\n\u001b[0;32m---> 70\u001b[0m     \u001b[38;5;28;01mraise\u001b[39;00m \u001b[38;5;167;01mValueError\u001b[39;00m(\n\u001b[1;32m     71\u001b[0m         \u001b[38;5;124mf\u001b[39m\u001b[38;5;124m\"\u001b[39m\u001b[38;5;124mLength mismatch: Expected axis has \u001b[39m\u001b[38;5;132;01m{\u001b[39;00mold_len\u001b[38;5;132;01m}\u001b[39;00m\u001b[38;5;124m elements, new \u001b[39m\u001b[38;5;124m\"\u001b[39m\n\u001b[1;32m     72\u001b[0m         \u001b[38;5;124mf\u001b[39m\u001b[38;5;124m\"\u001b[39m\u001b[38;5;124mvalues have \u001b[39m\u001b[38;5;132;01m{\u001b[39;00mnew_len\u001b[38;5;132;01m}\u001b[39;00m\u001b[38;5;124m elements\u001b[39m\u001b[38;5;124m\"\u001b[39m\n\u001b[1;32m     73\u001b[0m     )\n",
      "\u001b[0;31mValueError\u001b[0m: Length mismatch: Expected axis has 0 elements, new values have 19 elements"
     ]
    }
   ],
   "source": [
    "import psycopg2\n",
    "import json\n",
    "import pandas as pd\n",
    "from pandas import DataFrame\n",
    "import os\n",
    "import glob\n",
    "import datetime\n",
    "from pandas import ExcelWriter\n",
    "from Bucketsize import nodule_size,connect_to_db,liver_size,thyroid_size,taa_size\n",
    "\n",
    "os.chdir('/Users/kinnaripatel/Desktop/k')\n",
    "path = \"/Users/kinnaripatel/Desktop/k\"\n",
    "\n",
    "for filename in glob.glob(os.path.join(path, '*.json')):     \n",
    "    with open(filename, mode='r') as f:\n",
    "        data = json.load(f)\n",
    "        connection = connect_to_db(data['site_info']['db_name'])\n",
    "        print (data['site_info']['has_facilities'])\n",
    "        cursor = connection.cursor()\n",
    "        if data['site_info']['has_facilities'] == True:\n",
    "            for facility in data['facility_info']:\n",
    "                postgreSQL_select_Query_with_facility = \"\"\"select messages.\"messageId\",\"{}\",\"dateOfBirth\",\"patientVisitFacility\",\"{}\",\"{}\",\"{}\",\"{}\",\"report\",\"has_measure\",\"max_measure\",\"max_measure_sentence\",\"model_version\",\"max_measure_text\",\"selected_measures_sentences\", \"selected_measures_text\",\"device_sentence\",\"device_id\",\"device_text\"\n",
    "from messages inner join thoracic_aortic_aneurysm as ipn on messages.\"messageId\" = ipn.\"messageId\" \n",
    "where report is not null and \"esIndex\" ilike '{}' and  \"{}\" >=  CURRENT_DATE - INTERVAL '12 months'\"\"\".format(facility['mrn_column_id'],facility['procedure_desc_column_id'],facility['procedure_code_column_id'],facility['exam_date_column_id'],facility['accession_column_id'],facility['facility_id'], facility['exam_date_column_id'])\n",
    "\n",
    "                \n",
    "                cursor.execute(postgreSQL_select_Query_with_facility)\n",
    "                print(\"Selecting rows from exams table\")\n",
    "                exams = cursor.fetchall()\n",
    "                df=pd.DataFrame(list(exams))\n",
    "                file_name = facility['facility_id']+'.xlsx'\n",
    "                df.columns =[\"ID\",\"MRN\",\"DateOfBirth\",\"Facility\",\"Procedure Description\",\"Procedure Code\",\"Exam Date\",\"Accession Number\",\"report\",\"has_measure\",\"max_measure\",\"max_measure_sentence\",\"model_version\",\"max_measure_text\",\"selected_measures_sentences\", \"selected_measures_text\",\"device_sentence\",\"device_id\",\"device_text\"]\n",
    "                #df.to_csv('sample'+facility['facility_id']+'.csv')\n",
    "                #df['calc']= df['max_measure'].apply[nodule_size]\n",
    "                df['size_category'] = df[\"max_measure\"].apply(taa_size)\n",
    "                print(df['size_category'])\n",
    "                df1=df.groupby('size_category')['size_category'].count().reset_index(name=\"count\")\n",
    "                print(df1)\n",
    "                #df1.to_csv('sample1'+facility['facility_id']+'.csv')\n",
    "                patient_df=df.sort_values('Exam Date').drop_duplicates(subset=['MRN'], keep='last')\n",
    "               # patient_df.to_csv('patientsample'+facility['facility_id']+'.csv')\n",
    "                writer = pd.ExcelWriter(file_name, engine='xlsxwriter')\n",
    "                df.to_excel(writer,sheet_name = 'exams', index=False)\n",
    "                df1.to_excel(writer,sheet_name = 'sizebucket',index=False)\n",
    "                patient_df.to_excel(writer,sheet_name = 'patients', index=False)\n",
    "                writer.save() \n",
    "        else:\n",
    "            postgreSQL_select_Query = \"\"\"select messages.\"messageId\",\"{}\",\"dateOfBirth\",\"patientVisitFacility\",\"{}\",\"{}\",\"{}\",\"{}\",\"report\",\"has_measure\",\"max_measure\",\"max_measure_sentence\",\"model_version\",\"max_measure_text\",\"selected_measures_sentences\", \"selected_measures_text\",\"device_sentence\",\"device_id\",\"device_text\"\n",
    "from messages inner join thoracic_aortic_aneurysm as ipn on messages.\"messageId\" = ipn.\"messageId\" \n",
    "where report is not null and  \"{}\" >=  '2021-05-01' and \"{}\" < '2021-06-01' \"\"\".format(data['site_info']['mrn_column_id'],data['site_info']['procedure_desc_column_id'],data['site_info']['procedure_code_column_id'],data['site_info']['exam_date_column_id'],data['site_info']['accession_column_id'],data['site_info']['exam_date_column_id'],data['site_info']['exam_date_column_id'])\n",
    "\n",
    "            cursor.execute(postgreSQL_select_Query)\n",
    "            print(\"Selecting rows from exams table\")\n",
    "            exams1 = cursor.fetchall()\n",
    "            df2=pd.DataFrame(list(exams1))\n",
    "            file_name = data['site_info']['site_id']+'.xlsx'\n",
    "            df2.columns =[\"ID\",\"MRN\",\"DateOfBirth\",\"Facility\",\"Procedure Description\",\"Procedure Code\",\"Exam Date\",\"Accession Number\",\"report\",\"has_measure\",\"max_measure\",\"max_measure_sentence\",\"model_version\",\"max_measure_text\",\"selected_measures_sentences\", \"selected_measures_text\",\"device_sentence\",\"device_id\",\"device_text\"]\n",
    "            #df2.to_csv('sample'+filename+'.csv')\n",
    "            df2['size_category'] = df2[\"max_measure\"].apply(taa_size)\n",
    "            #print(df['size_category'])\n",
    "            df3=df2.groupby('size_category')['size_category'].count().reset_index(name=\"count\")\n",
    "            print(df3)\n",
    "            #df3.to_csv('sample1'+filename+'.csv')\n",
    "            patient_df1=df2.sort_values('Exam Date').drop_duplicates(subset=['MRN'], keep='last')\n",
    "            #patient_df1.to_csv('patientsample'+filename+'.csv')\n",
    "            writer = pd.ExcelWriter(file_name, engine='xlsxwriter')\n",
    "            df2.to_excel(writer,sheet_name = 'exams', index=False)\n",
    "            df3.to_excel(writer,sheet_name = 'sizebucket', index=False)\n",
    "            patient_df1.to_excel(writer,sheet_name = 'patients', index=False)\n",
    "            writer.save() "
   ]
  },
  {
   "cell_type": "code",
   "execution_count": null,
   "id": "cfbf6447-8852-4012-840d-b90541ffd38e",
   "metadata": {},
   "outputs": [],
   "source": []
  }
 ],
 "metadata": {
  "kernelspec": {
   "display_name": "Python 3 (ipykernel)",
   "language": "python",
   "name": "python3"
  },
  "language_info": {
   "codemirror_mode": {
    "name": "ipython",
    "version": 3
   },
   "file_extension": ".py",
   "mimetype": "text/x-python",
   "name": "python",
   "nbconvert_exporter": "python",
   "pygments_lexer": "ipython3",
   "version": "3.9.13"
  }
 },
 "nbformat": 4,
 "nbformat_minor": 5
}
