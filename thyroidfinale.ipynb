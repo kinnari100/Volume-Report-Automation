{
 "cells": [
  {
   "cell_type": "code",
   "execution_count": 2,
   "id": "4efbb8ff-cb99-43f7-94d2-8f77a05808e0",
   "metadata": {},
   "outputs": [
    {
     "name": "stdout",
     "output_type": "stream",
     "text": [
      "False\n",
      "Selecting rows from exams table\n",
      "  size_category  count\n",
      "0       0.5-0.9     11\n",
      "1             1      2\n",
      "2       1.0-1.4     10\n",
      "3       1.5-2.4     14\n",
      "4         2.5-5      5\n",
      "5            >5      3\n",
      "6      negative   1814\n"
     ]
    },
    {
     "name": "stderr",
     "output_type": "stream",
     "text": [
      "/var/folders/95/66y8yr891nx_wrg5vxt9ppy00000gp/T/ipykernel_16612/3514882127.py:70: FutureWarning: save is not part of the public API, usage can give in unexpected results and will be removed in a future version\n",
      "  writer.save()\n"
     ]
    },
    {
     "name": "stdout",
     "output_type": "stream",
     "text": [
      "True\n",
      "Selecting rows from exams table\n",
      "0       negative\n",
      "1       negative\n",
      "2       negative\n",
      "3       negative\n",
      "4       negative\n",
      "          ...   \n",
      "2722    negative\n",
      "2723     1.0-1.4\n",
      "2724    negative\n",
      "2725    negative\n",
      "2726    negative\n",
      "Name: size_category, Length: 2727, dtype: object\n",
      "  size_category  count\n",
      "0       0.5-0.9      9\n",
      "1             1      4\n",
      "2       1.0-1.4     72\n",
      "3       1.5-2.4     60\n",
      "4         2.5-5     21\n",
      "5            >5      1\n",
      "6      negative   2560\n"
     ]
    },
    {
     "name": "stderr",
     "output_type": "stream",
     "text": [
      "/var/folders/95/66y8yr891nx_wrg5vxt9ppy00000gp/T/ipykernel_16612/3514882127.py:46: FutureWarning: save is not part of the public API, usage can give in unexpected results and will be removed in a future version\n",
      "  writer.save()\n"
     ]
    },
    {
     "name": "stdout",
     "output_type": "stream",
     "text": [
      "Selecting rows from exams table\n",
      "0        negative\n",
      "1        negative\n",
      "2        negative\n",
      "3        negative\n",
      "4        negative\n",
      "           ...   \n",
      "35718    negative\n",
      "35719    negative\n",
      "35720    negative\n",
      "35721    negative\n",
      "35722    negative\n",
      "Name: size_category, Length: 35723, dtype: object\n",
      "  size_category  count\n",
      "0       0.5-0.9     14\n",
      "1             1      9\n",
      "2       1.0-1.4     75\n",
      "3       1.5-2.4     77\n",
      "4         2.5-5    147\n",
      "5            >5     44\n",
      "6      negative  35357\n"
     ]
    },
    {
     "name": "stderr",
     "output_type": "stream",
     "text": [
      "/var/folders/95/66y8yr891nx_wrg5vxt9ppy00000gp/T/ipykernel_16612/3514882127.py:46: FutureWarning: save is not part of the public API, usage can give in unexpected results and will be removed in a future version\n",
      "  writer.save()\n"
     ]
    }
   ],
   "source": [
    "import psycopg2\n",
    "import json\n",
    "import pandas as pd\n",
    "from pandas import DataFrame\n",
    "import os\n",
    "import glob\n",
    "import datetime\n",
    "from pandas import ExcelWriter\n",
    "from Bucketsize import nodule_size,connect_to_db,liver_size,thyroid_size\n",
    "\n",
    "os.chdir('/Users/kinnaripatel/Desktop/k')\n",
    "path = \"/Users/kinnaripatel/Desktop/k\"\n",
    "\n",
    "for filename in glob.glob(os.path.join(path, '*.json')):     \n",
    "    with open(filename, mode='r') as f:\n",
    "        data = json.load(f)\n",
    "        connection = connect_to_db(data['site_info']['db_name'])\n",
    "        print (data['site_info']['has_facilities'])\n",
    "        cursor = connection.cursor()\n",
    "        if data['site_info']['has_facilities'] == True:\n",
    "            for facility in data['facility_info']:\n",
    "                postgreSQL_select_Query_with_facility = \"\"\"select messages.\"messageId\",\"{}\",\"dateOfBirth\",\"patientVisitFacility\",\"{}\",\"{}\",\"{}\",\"{}\",\"report\",\"has_measure\",\"max_measure\",\"max_measure_sentence\",\"model_version\",\"ti_rads\"\n",
    "from messages inner join thyroid as ipn on messages.\"messageId\" = ipn.\"messageId\" \n",
    "where report is not null and \"esIndex\" ilike '{}' and  \"{}\" >=  CURRENT_DATE - INTERVAL '12 months'\"\"\".format(facility['mrn_column_id'],facility['procedure_desc_column_id'],facility['procedure_code_column_id'],facility['exam_date_column_id'],facility['accession_column_id'],facility['facility_id'], facility['exam_date_column_id'])\n",
    "\n",
    "                \n",
    "                cursor.execute(postgreSQL_select_Query_with_facility)\n",
    "                print(\"Selecting rows from exams table\")\n",
    "                exams = cursor.fetchall()\n",
    "                df=pd.DataFrame(list(exams))\n",
    "                file_name = facility['facility_id']+'.xlsx'\n",
    "                df.columns =[\"ID\",\"MRN\",\"DateOfBirth\",\"Facility\",\"Procedure Description\",\"Procedure Code\",\"Exam Date\",\"Accession Number\",\"report\",\"has_measure\",\"max_measure\",\"max_measure_sentence\",\"model_version\",\"ti_rads\"]\n",
    "                #df.to_csv('sample'+facility['facility_id']+'.csv')\n",
    "                #df['calc']= df['max_measure'].apply[nodule_size]\n",
    "                df['size_category'] = df[\"max_measure\"].apply(thyroid_size)\n",
    "                print(df['size_category'])\n",
    "                df1=df.groupby('size_category')['size_category'].count().reset_index(name=\"count\")\n",
    "                print(df1)\n",
    "                #df1.to_csv('sample1'+facility['facility_id']+'.csv')\n",
    "                patient_df=df.sort_values('Exam Date').drop_duplicates(subset=['MRN'], keep='last')\n",
    "               # patient_df.to_csv('patientsample'+facility['facility_id']+'.csv')\n",
    "                writer = pd.ExcelWriter(file_name, engine='xlsxwriter')\n",
    "                df.to_excel(writer,sheet_name = 'exams', index=False)\n",
    "                df1.to_excel(writer,sheet_name = 'sizebucket',index=False)\n",
    "                patient_df.to_excel(writer,sheet_name = 'patients', index=False)\n",
    "                writer.save() \n",
    "        else:\n",
    "            postgreSQL_select_Query = \"\"\"select messages.\"messageId\",\"{}\",\"dateOfBirth\",\"patientVisitFacility\",\"{}\",\"{}\",\"{}\",\"{}\",\"report\",\"has_measure\",\"max_measure\",\"max_measure_sentence\",\"model_version\",\"ti_rads\"\n",
    "from messages inner join thyroid as ipn on messages.\"messageId\" = ipn.\"messageId\" \n",
    "where report is not null and  \"{}\" >=  '2021-05-01' and \"{}\" < '2021-06-01' \"\"\".format(data['site_info']['mrn_column_id'],data['site_info']['procedure_desc_column_id'],data['site_info']['procedure_code_column_id'],data['site_info']['exam_date_column_id'],data['site_info']['accession_column_id'],data['site_info']['exam_date_column_id'],data['site_info']['exam_date_column_id'])\n",
    "\n",
    "            cursor.execute(postgreSQL_select_Query)\n",
    "            print(\"Selecting rows from exams table\")\n",
    "            exams1 = cursor.fetchall()\n",
    "            df2=pd.DataFrame(list(exams1))\n",
    "            file_name = data['site_info']['site_id']+'.xlsx'\n",
    "            df2.columns =[\"ID\",\"MRN\",\"DateOfBirth\",\"Facility\",\"Procedure Description\",\"Procedure Code\",\"Exam Date\",\"Accession Number\",\"report\",\"has_measure\",\"max_measure\",\"max_measure_sentence\",\"model_version\",\"ti_rads\"]\n",
    "            #df2.to_csv('sample'+filename+'.csv')\n",
    "            df2['size_category'] = df2[\"max_measure\"].apply(thyroid_size)\n",
    "            #print(df['size_category'])\n",
    "            df3=df2.groupby('size_category')['size_category'].count().reset_index(name=\"count\")\n",
    "            print(df3)\n",
    "            #df3.to_csv('sample1'+filename+'.csv')\n",
    "            patient_df1=df2.sort_values('Exam Date').drop_duplicates(subset=['MRN'], keep='last')\n",
    "            #patient_df1.to_csv('patientsample'+filename+'.csv')\n",
    "            writer = pd.ExcelWriter(file_name, engine='xlsxwriter')\n",
    "            df2.to_excel(writer,sheet_name = 'exams', index=False)\n",
    "            df3.to_excel(writer,sheet_name = 'sizebucket', index=False)\n",
    "            patient_df1.to_excel(writer,sheet_name = 'patients', index=False)\n",
    "            writer.save() "
   ]
  },
  {
   "cell_type": "code",
   "execution_count": null,
   "id": "4030bd27-ad7f-4f24-9cbc-55da8b1c5dc8",
   "metadata": {},
   "outputs": [],
   "source": []
  }
 ],
 "metadata": {
  "kernelspec": {
   "display_name": "Python 3 (ipykernel)",
   "language": "python",
   "name": "python3"
  },
  "language_info": {
   "codemirror_mode": {
    "name": "ipython",
    "version": 3
   },
   "file_extension": ".py",
   "mimetype": "text/x-python",
   "name": "python",
   "nbconvert_exporter": "python",
   "pygments_lexer": "ipython3",
   "version": "3.9.13"
  }
 },
 "nbformat": 4,
 "nbformat_minor": 5
}
